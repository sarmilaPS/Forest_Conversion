{
  "nbformat": 4,
  "nbformat_minor": 0,
  "metadata": {
    "colab": {
      "name": "Forest_2nd project.ipynb",
      "provenance": [],
      "collapsed_sections": [],
      "include_colab_link": true
    },
    "kernelspec": {
      "name": "python3",
      "display_name": "Python 3"
    },
    "language_info": {
      "name": "python"
    }
  },
  "cells": [
    {
      "cell_type": "markdown",
      "metadata": {
        "id": "view-in-github",
        "colab_type": "text"
      },
      "source": [
        "<a href=\"https://colab.research.google.com/github/sarmilaPS/Forest_Conversion/blob/main/Forest_Conversion.ipynb\" target=\"_parent\"><img src=\"https://colab.research.google.com/assets/colab-badge.svg\" alt=\"Open In Colab\"/></a>"
      ]
    },
    {
      "cell_type": "code",
      "metadata": {
        "colab": {
          "base_uri": "https://localhost:8080/"
        },
        "id": "UJ2nH3xflVTD",
        "outputId": "a48db2bd-5c5c-4ae9-cc5c-d15d69a38a8f"
      },
      "source": [
        "from google.colab import drive\n",
        "drive.mount('/content/drive', force_remount=True)"
      ],
      "execution_count": 2,
      "outputs": [
        {
          "output_type": "stream",
          "text": [
            "Mounted at /content/drive\n"
          ],
          "name": "stdout"
        }
      ]
    },
    {
      "cell_type": "markdown",
      "metadata": {
        "id": "8QFzlAUkldQ4"
      },
      "source": [
        "# Data Analysis on Forest Area of World"
      ]
    },
    {
      "cell_type": "markdown",
      "metadata": {
        "id": "oRsgV4YIljDp"
      },
      "source": [
        "## Objective"
      ]
    },
    {
      "cell_type": "markdown",
      "metadata": {
        "id": "hfA3JMVzljHJ"
      },
      "source": [
        "The primary objective of working on this project is to know how and to what extent people around the world are cleaning natural forests to use the land for other purpose often agricultural (growing crops like palm oil or creating pasture for cattle), but also for mines, infrastructure or urbanisation.\n",
        "\n",
        "Forest conversion is the largest cause of global deforestation today.\n",
        "\n"
      ]
    },
    {
      "cell_type": "code",
      "metadata": {
        "id": "GHMK_oMrlrBi"
      },
      "source": [
        "import pandas as pd\n",
        "import numpy as np\n",
        "import seaborn as sns\n",
        "import matplotlib.pyplot as plt"
      ],
      "execution_count": 3,
      "outputs": []
    },
    {
      "cell_type": "markdown",
      "metadata": {
        "id": "wOF9H-94lzz8"
      },
      "source": [
        "##Displaying dataset from the source csv file"
      ]
    },
    {
      "cell_type": "code",
      "metadata": {
        "colab": {
          "base_uri": "https://localhost:8080/",
          "height": 204
        },
        "id": "hFUdwa_glruv",
        "outputId": "ac3b5a0d-6b46-4af0-c0f5-f3f78902d455"
      },
      "source": [
        "forest = pd.read_csv('drive/MyDrive/bootcamp/forest.csv')\n",
        "forest.head()"
      ],
      "execution_count": 4,
      "outputs": [
        {
          "output_type": "execute_result",
          "data": {
            "text/html": [
              "<div>\n",
              "<style scoped>\n",
              "    .dataframe tbody tr th:only-of-type {\n",
              "        vertical-align: middle;\n",
              "    }\n",
              "\n",
              "    .dataframe tbody tr th {\n",
              "        vertical-align: top;\n",
              "    }\n",
              "\n",
              "    .dataframe thead th {\n",
              "        text-align: right;\n",
              "    }\n",
              "</style>\n",
              "<table border=\"1\" class=\"dataframe\">\n",
              "  <thead>\n",
              "    <tr style=\"text-align: right;\">\n",
              "      <th></th>\n",
              "      <th>entity</th>\n",
              "      <th>code</th>\n",
              "      <th>year</th>\n",
              "      <th>net_forest_conversion</th>\n",
              "    </tr>\n",
              "  </thead>\n",
              "  <tbody>\n",
              "    <tr>\n",
              "      <th>0</th>\n",
              "      <td>Algeria</td>\n",
              "      <td>DZA</td>\n",
              "      <td>1990</td>\n",
              "      <td>-8800</td>\n",
              "    </tr>\n",
              "    <tr>\n",
              "      <th>1</th>\n",
              "      <td>Algeria</td>\n",
              "      <td>DZA</td>\n",
              "      <td>2000</td>\n",
              "      <td>33900</td>\n",
              "    </tr>\n",
              "    <tr>\n",
              "      <th>2</th>\n",
              "      <td>Algeria</td>\n",
              "      <td>DZA</td>\n",
              "      <td>2010</td>\n",
              "      <td>7600</td>\n",
              "    </tr>\n",
              "    <tr>\n",
              "      <th>3</th>\n",
              "      <td>Algeria</td>\n",
              "      <td>DZA</td>\n",
              "      <td>2015</td>\n",
              "      <td>-1400</td>\n",
              "    </tr>\n",
              "    <tr>\n",
              "      <th>4</th>\n",
              "      <td>Argentina</td>\n",
              "      <td>ARG</td>\n",
              "      <td>1990</td>\n",
              "      <td>-182600</td>\n",
              "    </tr>\n",
              "  </tbody>\n",
              "</table>\n",
              "</div>"
            ],
            "text/plain": [
              "      entity code  year  net_forest_conversion\n",
              "0    Algeria  DZA  1990                  -8800\n",
              "1    Algeria  DZA  2000                  33900\n",
              "2    Algeria  DZA  2010                   7600\n",
              "3    Algeria  DZA  2015                  -1400\n",
              "4  Argentina  ARG  1990                -182600"
            ]
          },
          "metadata": {
            "tags": []
          },
          "execution_count": 4
        }
      ]
    },
    {
      "cell_type": "markdown",
      "metadata": {
        "id": "gJN8Mq_LmDfY"
      },
      "source": [
        "## Data Description"
      ]
    },
    {
      "cell_type": "markdown",
      "metadata": {
        "id": "uur7acFimJnu"
      },
      "source": [
        "1. **entity** = Country\n",
        "2. **code** = Country Code\n",
        "3. **year** = Year\n",
        "4. **net_forest_conversion** = Net forest conversion in hectares"
      ]
    },
    {
      "cell_type": "markdown",
      "metadata": {
        "id": "Rczx8FJDmN_P"
      },
      "source": [
        "The provided data source has 475 rows and 4 columns."
      ]
    },
    {
      "cell_type": "code",
      "metadata": {
        "colab": {
          "base_uri": "https://localhost:8080/"
        },
        "id": "NKrz8-kCmOqp",
        "outputId": "627fbc0d-b93f-4a79-8594-e5156a7e366f"
      },
      "source": [
        "forest.shape"
      ],
      "execution_count": 5,
      "outputs": [
        {
          "output_type": "execute_result",
          "data": {
            "text/plain": [
              "(469, 4)"
            ]
          },
          "metadata": {
            "tags": []
          },
          "execution_count": 5
        }
      ]
    },
    {
      "cell_type": "code",
      "metadata": {
        "colab": {
          "base_uri": "https://localhost:8080/"
        },
        "id": "2ew33JQxmRIK",
        "outputId": "20be42d8-3f13-4aaf-cee5-bad88aea12c8"
      },
      "source": [
        "forest.info()"
      ],
      "execution_count": 6,
      "outputs": [
        {
          "output_type": "stream",
          "text": [
            "<class 'pandas.core.frame.DataFrame'>\n",
            "RangeIndex: 469 entries, 0 to 468\n",
            "Data columns (total 4 columns):\n",
            " #   Column                 Non-Null Count  Dtype \n",
            "---  ------                 --------------  ----- \n",
            " 0   entity                 469 non-null    object\n",
            " 1   code                   469 non-null    object\n",
            " 2   year                   469 non-null    int64 \n",
            " 3   net_forest_conversion  469 non-null    int64 \n",
            "dtypes: int64(2), object(2)\n",
            "memory usage: 14.8+ KB\n"
          ],
          "name": "stdout"
        }
      ]
    },
    {
      "cell_type": "code",
      "metadata": {
        "colab": {
          "base_uri": "https://localhost:8080/"
        },
        "id": "B8_3IkgomTgR",
        "outputId": "493376b1-a278-4f8b-a3fe-d430388eca52"
      },
      "source": [
        "forest.nunique()"
      ],
      "execution_count": 7,
      "outputs": [
        {
          "output_type": "execute_result",
          "data": {
            "text/plain": [
              "entity                   130\n",
              "code                     130\n",
              "year                       4\n",
              "net_forest_conversion    311\n",
              "dtype: int64"
            ]
          },
          "metadata": {
            "tags": []
          },
          "execution_count": 7
        }
      ]
    },
    {
      "cell_type": "code",
      "metadata": {
        "colab": {
          "base_uri": "https://localhost:8080/"
        },
        "id": "YqlPnJF01Bfi",
        "outputId": "910b4213-ac61-45c8-c3ef-4a77f3b3a877"
      },
      "source": [
        "forest[\"year\"].value_counts()"
      ],
      "execution_count": 8,
      "outputs": [
        {
          "output_type": "execute_result",
          "data": {
            "text/plain": [
              "2010    126\n",
              "2015    120\n",
              "2000    120\n",
              "1990    103\n",
              "Name: year, dtype: int64"
            ]
          },
          "metadata": {
            "tags": []
          },
          "execution_count": 8
        }
      ]
    },
    {
      "cell_type": "markdown",
      "metadata": {
        "id": "LLYy52bo01Ur"
      },
      "source": [
        "On this dataset, we see mean, standard deviation, minimum hectares and maximum hectares of conversion i.e. -7.693103e+04, 6.393444e+05, -7.818000e+06, 2.360980e+06 hectares respectively."
      ]
    },
    {
      "cell_type": "code",
      "metadata": {
        "colab": {
          "base_uri": "https://localhost:8080/"
        },
        "id": "Nf-khMvt02M_",
        "outputId": "14e017a3-125b-44e9-e64f-c1f6ebd1df66"
      },
      "source": [
        "forest.net_forest_conversion.describe()"
      ],
      "execution_count": 9,
      "outputs": [
        {
          "output_type": "execute_result",
          "data": {
            "text/plain": [
              "count    4.690000e+02\n",
              "mean    -2.911778e+04\n",
              "std      3.559493e+05\n",
              "min     -3.950790e+06\n",
              "25%     -3.000000e+04\n",
              "50%      0.000000e+00\n",
              "75%      3.420000e+03\n",
              "max      2.360980e+06\n",
              "Name: net_forest_conversion, dtype: float64"
            ]
          },
          "metadata": {
            "tags": []
          },
          "execution_count": 9
        }
      ]
    },
    {
      "cell_type": "markdown",
      "metadata": {
        "id": "TSso-E_hyaTI"
      },
      "source": [
        "## Cleaning the dataset"
      ]
    },
    {
      "cell_type": "markdown",
      "metadata": {
        "id": "9QpvWWWcyb1e"
      },
      "source": [
        "Originally the dataset was corrupted. The following data has been been cleaned manually.\n",
        "1. The country name \"Vatican\" is enlisted in this dataset. But this is not a country. Rather it is a city in Rome, Italy. And the row consists of 0 value.\n",
        "2. The country name \"World\" is also enlisted herewith. Also it is not a country, the row has to be deleted from the dataset because while doing mapping with the continent it shows error as this name \"World\" is not enlisted in the \"**pycountry_convert**\" module.\n",
        "3. The country code of \"French Guyana\" and \"Faroe Islands\" has updated and the spelling of \"French Guyana\" has been replaced by \"French Guiana\""
      ]
    },
    {
      "cell_type": "code",
      "metadata": {
        "id": "pkUpWythyZeE",
        "colab": {
          "base_uri": "https://localhost:8080/"
        },
        "outputId": "942cac66-b067-4de2-86c3-62e65ab408cf"
      },
      "source": [
        "forest.isnull().sum()"
      ],
      "execution_count": 10,
      "outputs": [
        {
          "output_type": "execute_result",
          "data": {
            "text/plain": [
              "entity                   0\n",
              "code                     0\n",
              "year                     0\n",
              "net_forest_conversion    0\n",
              "dtype: int64"
            ]
          },
          "metadata": {
            "tags": []
          },
          "execution_count": 10
        }
      ]
    },
    {
      "cell_type": "markdown",
      "metadata": {
        "id": "LegVXWzdRI0T"
      },
      "source": [
        "## Data Visualization"
      ]
    },
    {
      "cell_type": "markdown",
      "metadata": {
        "id": "YfSgDjICyzI3"
      },
      "source": [
        "This dataset shows top 5 countries in year 2010 where China, Australia, United States, India, and chile were priortizing the forest conservation as main agenda in order to reduce converting forest land to other agricultural purposes."
      ]
    },
    {
      "cell_type": "code",
      "metadata": {
        "colab": {
          "base_uri": "https://localhost:8080/",
          "height": 414
        },
        "id": "v8GQBFxSmhO7",
        "outputId": "194e2867-e84a-4cd1-d0b8-2393dfcaa253"
      },
      "source": [
        "current_2010 = forest[forest['year']==2010][:130]\n",
        "current_2010.sort_values(\"net_forest_conversion\", ascending = False, inplace = True)\n",
        "\n",
        "plt.rcParams['figure.figsize'] = (10, 6)\n",
        "ax = sns.barplot(x = current_2010['entity'][:5], y = current_2010['net_forest_conversion'][:5], palette = 'dark')\n",
        "ax.set_xlabel(xlabel = 'entity', fontsize = 15)\n",
        "ax.set_ylabel(ylabel = 'area in hectares', fontsize = 15)\n",
        "ax.set_title(label = 'Area of Forest of 5 countries in 2010', fontsize = 20)\n",
        "plt.xticks(rotation = 360)\n",
        "plt.show()"
      ],
      "execution_count": 11,
      "outputs": [
        {
          "output_type": "display_data",
          "data": {
            "image/png": "[encoded data removed]",
            "text/plain": [
              "<Figure size 720x432 with 1 Axes>"
            ]
          },
          "metadata": {
            "tags": [],
            "needs_background": "light"
          }
        }
      ]
    },
    {
      "cell_type": "markdown",
      "metadata": {
        "id": "YvCQ0qKIpxt9"
      },
      "source": [
        "#### Data of 4 different years"
      ]
    },
    {
      "cell_type": "markdown",
      "metadata": {
        "id": "HFDc4harz0ip"
      },
      "source": [
        "Out of four survery done in year (1990, 2000, 2010, and 2015), the dataset picturizes gradually in the year 2010 and 2015 forest conversion activity is comparatively low."
      ]
    },
    {
      "cell_type": "code",
      "metadata": {
        "colab": {
          "base_uri": "https://localhost:8080/",
          "height": 314
        },
        "id": "zRw6slnxm92Z",
        "outputId": "3cbd6c04-0b02-4cce-aeb5-3b21a04d8ddc"
      },
      "source": [
        "sns.relplot(\n",
        "    data=forest, x=\"entity\", y=\"net_forest_conversion\",\n",
        "    col=\"year\", hue=\"year\", style=\"year\",\n",
        "    kind=\"line\"\n",
        ")"
      ],
      "execution_count": 12,
      "outputs": [
        {
          "output_type": "execute_result",
          "data": {
            "text/plain": [
              "<seaborn.axisgrid.FacetGrid at 0x7f5300bf7450>"
            ]
          },
          "metadata": {
            "tags": []
          },
          "execution_count": 12
        },
        {
          "output_type": "display_data",
          "data": {
            "image/png": "[encoded data removed]",
            "text/plain": [
              "<Figure size 1501.38x360 with 4 Axes>"
            ]
          },
          "metadata": {
            "tags": [],
            "needs_background": "light"
          }
        }
      ]
    },
    {
      "cell_type": "code",
      "metadata": {
        "colab": {
          "base_uri": "https://localhost:8080/",
          "height": 204
        },
        "id": "rj5CqgzPnyU7",
        "outputId": "83beb3ed-7108-429b-9d07-fe075baa8395"
      },
      "source": [
        "df_forest = forest.drop([\"code\", \"year\"], axis = 1)\n",
        "df_forest.sort_values(\"net_forest_conversion\", ascending = False, inplace = True)\n",
        "df_forest.head()"
      ],
      "execution_count": 13,
      "outputs": [
        {
          "output_type": "execute_result",
          "data": {
            "text/html": [
              "<div>\n",
              "<style scoped>\n",
              "    .dataframe tbody tr th:only-of-type {\n",
              "        vertical-align: middle;\n",
              "    }\n",
              "\n",
              "    .dataframe tbody tr th {\n",
              "        vertical-align: top;\n",
              "    }\n",
              "\n",
              "    .dataframe thead th {\n",
              "        text-align: right;\n",
              "    }\n",
              "</style>\n",
              "<table border=\"1\" class=\"dataframe\">\n",
              "  <thead>\n",
              "    <tr style=\"text-align: right;\">\n",
              "      <th></th>\n",
              "      <th>entity</th>\n",
              "      <th>net_forest_conversion</th>\n",
              "    </tr>\n",
              "  </thead>\n",
              "  <tbody>\n",
              "    <tr>\n",
              "      <th>82</th>\n",
              "      <td>China</td>\n",
              "      <td>2360980</td>\n",
              "    </tr>\n",
              "    <tr>\n",
              "      <th>81</th>\n",
              "      <td>China</td>\n",
              "      <td>1986000</td>\n",
              "    </tr>\n",
              "    <tr>\n",
              "      <th>84</th>\n",
              "      <td>China</td>\n",
              "      <td>1936790</td>\n",
              "    </tr>\n",
              "    <tr>\n",
              "      <th>83</th>\n",
              "      <td>China</td>\n",
              "      <td>1936770</td>\n",
              "    </tr>\n",
              "    <tr>\n",
              "      <th>14</th>\n",
              "      <td>Australia</td>\n",
              "      <td>709680</td>\n",
              "    </tr>\n",
              "  </tbody>\n",
              "</table>\n",
              "</div>"
            ],
            "text/plain": [
              "       entity  net_forest_conversion\n",
              "82      China                2360980\n",
              "81      China                1986000\n",
              "84      China                1936790\n",
              "83      China                1936770\n",
              "14  Australia                 709680"
            ]
          },
          "metadata": {
            "tags": []
          },
          "execution_count": 13
        }
      ]
    },
    {
      "cell_type": "markdown",
      "metadata": {
        "id": "nLSx9QqIp88y"
      },
      "source": [
        "#### Top 10 countries in preserving forest area"
      ]
    },
    {
      "cell_type": "markdown",
      "metadata": {
        "id": "WYxhnocw1Red"
      },
      "source": [
        "It shows list of sum of four surveys of top 10 countries (China, India, United States, Veitnam, Russia, Chile, Turkey, Australia, Spain, and Cuba) that are in the process of forest conservation to make itself the country rich in forest resources."
      ]
    },
    {
      "cell_type": "code",
      "metadata": {
        "colab": {
          "base_uri": "https://localhost:8080/",
          "height": 390
        },
        "id": "Y5NJeheQwfnq",
        "outputId": "625d1473-db7e-44ec-d023-f83964d6db85"
      },
      "source": [
        "top_10 = df_forest.groupby([\"entity\"]).sum()\n",
        "top_10.sort_values(\"net_forest_conversion\", ascending= False, inplace = True)\n",
        "first_10_countries = top_10.head(10)\n",
        "first_10_countries.head(10)"
      ],
      "execution_count": 14,
      "outputs": [
        {
          "output_type": "execute_result",
          "data": {
            "text/html": [
              "<div>\n",
              "<style scoped>\n",
              "    .dataframe tbody tr th:only-of-type {\n",
              "        vertical-align: middle;\n",
              "    }\n",
              "\n",
              "    .dataframe tbody tr th {\n",
              "        vertical-align: top;\n",
              "    }\n",
              "\n",
              "    .dataframe thead th {\n",
              "        text-align: right;\n",
              "    }\n",
              "</style>\n",
              "<table border=\"1\" class=\"dataframe\">\n",
              "  <thead>\n",
              "    <tr style=\"text-align: right;\">\n",
              "      <th></th>\n",
              "      <th>net_forest_conversion</th>\n",
              "    </tr>\n",
              "    <tr>\n",
              "      <th>entity</th>\n",
              "      <th></th>\n",
              "    </tr>\n",
              "  </thead>\n",
              "  <tbody>\n",
              "    <tr>\n",
              "      <th>China</th>\n",
              "      <td>8220540</td>\n",
              "    </tr>\n",
              "    <tr>\n",
              "      <th>India</th>\n",
              "      <td>1088600</td>\n",
              "    </tr>\n",
              "    <tr>\n",
              "      <th>United States</th>\n",
              "      <td>902000</td>\n",
              "    </tr>\n",
              "    <tr>\n",
              "      <th>Vietnam</th>\n",
              "      <td>652220</td>\n",
              "    </tr>\n",
              "    <tr>\n",
              "      <th>Russia</th>\n",
              "      <td>621910</td>\n",
              "    </tr>\n",
              "    <tr>\n",
              "      <th>Chile</th>\n",
              "      <td>445000</td>\n",
              "    </tr>\n",
              "    <tr>\n",
              "      <th>Turkey</th>\n",
              "      <td>357410</td>\n",
              "    </tr>\n",
              "    <tr>\n",
              "      <th>Australia</th>\n",
              "      <td>276070</td>\n",
              "    </tr>\n",
              "    <tr>\n",
              "      <th>Spain</th>\n",
              "      <td>150510</td>\n",
              "    </tr>\n",
              "    <tr>\n",
              "      <th>Cuba</th>\n",
              "      <td>149400</td>\n",
              "    </tr>\n",
              "  </tbody>\n",
              "</table>\n",
              "</div>"
            ],
            "text/plain": [
              "               net_forest_conversion\n",
              "entity                              \n",
              "China                        8220540\n",
              "India                        1088600\n",
              "United States                 902000\n",
              "Vietnam                       652220\n",
              "Russia                        621910\n",
              "Chile                         445000\n",
              "Turkey                        357410\n",
              "Australia                     276070\n",
              "Spain                         150510\n",
              "Cuba                          149400"
            ]
          },
          "metadata": {
            "tags": []
          },
          "execution_count": 14
        }
      ]
    },
    {
      "cell_type": "code",
      "metadata": {
        "colab": {
          "base_uri": "https://localhost:8080/",
          "height": 372
        },
        "id": "9UreDLmrXJsT",
        "outputId": "5d5c997a-d0b6-4aa0-9be0-9a717ccd6727"
      },
      "source": [
        "first_10_countries.plot(kind = 'bar', figsize = (8, 4), color = 'green')\n",
        "plt.xlabel('Name of Country',fontsize =10)\n",
        "plt.ylabel('Net_conversion (hectare)', fontsize=10)\n",
        "plt.title('Fig 1: Leading Countries in Conservation of forest',fontsize = 15)\n",
        "\n",
        "plt.plot()"
      ],
      "execution_count": 15,
      "outputs": [
        {
          "output_type": "execute_result",
          "data": {
            "text/plain": [
              "[]"
            ]
          },
          "metadata": {
            "tags": []
          },
          "execution_count": 15
        },
        {
          "output_type": "display_data",
          "data": {
            "image/png": "[encoded data removed]",
            "text/plain": [
              "<Figure size 576x288 with 1 Axes>"
            ]
          },
          "metadata": {
            "tags": [],
            "needs_background": "light"
          }
        }
      ]
    },
    {
      "cell_type": "markdown",
      "metadata": {
        "id": "q4QMYjaZqF2K"
      },
      "source": [
        "#### Top 10 countries in converting forest area to other purposes"
      ]
    },
    {
      "cell_type": "markdown",
      "metadata": {
        "id": "F36yD1IR5qHE"
      },
      "source": [
        "It shows list of sum of four surveys of top 10 countries (Brazil, Indonesia, Tanzania, Myanmar, Paraguay, Bolivia, Mozambique, Argentina, Colombia, and Venezuala) that are in the process of forest conversion demolishing the existing forest area to use in agricultural purpose or urbanization or cattle grazing etc. "
      ]
    },
    {
      "cell_type": "code",
      "metadata": {
        "colab": {
          "base_uri": "https://localhost:8080/",
          "height": 390
        },
        "id": "Yio91yH7wvgj",
        "outputId": "8e7c47f7-60ec-40ad-f6bd-0e43657daf8b"
      },
      "source": [
        "top_10.sort_values(\"net_forest_conversion\", ascending= True, inplace = True)\n",
        "last_10 = top_10.head(10)\n",
        "last_10.head(10)"
      ],
      "execution_count": 16,
      "outputs": [
        {
          "output_type": "execute_result",
          "data": {
            "text/html": [
              "<div>\n",
              "<style scoped>\n",
              "    .dataframe tbody tr th:only-of-type {\n",
              "        vertical-align: middle;\n",
              "    }\n",
              "\n",
              "    .dataframe tbody tr th {\n",
              "        vertical-align: top;\n",
              "    }\n",
              "\n",
              "    .dataframe thead th {\n",
              "        text-align: right;\n",
              "    }\n",
              "</style>\n",
              "<table border=\"1\" class=\"dataframe\">\n",
              "  <thead>\n",
              "    <tr style=\"text-align: right;\">\n",
              "      <th></th>\n",
              "      <th>net_forest_conversion</th>\n",
              "    </tr>\n",
              "    <tr>\n",
              "      <th>entity</th>\n",
              "      <th></th>\n",
              "    </tr>\n",
              "  </thead>\n",
              "  <tbody>\n",
              "    <tr>\n",
              "      <th>Brazil</th>\n",
              "      <td>-10723950</td>\n",
              "    </tr>\n",
              "    <tr>\n",
              "      <th>Indonesia</th>\n",
              "      <td>-2467520</td>\n",
              "    </tr>\n",
              "    <tr>\n",
              "      <th>Tanzania</th>\n",
              "      <td>-1585000</td>\n",
              "    </tr>\n",
              "    <tr>\n",
              "      <th>Myanmar</th>\n",
              "      <td>-1357120</td>\n",
              "    </tr>\n",
              "    <tr>\n",
              "      <th>Paraguay</th>\n",
              "      <td>-1291150</td>\n",
              "    </tr>\n",
              "    <tr>\n",
              "      <th>Bolivia</th>\n",
              "      <td>-922320</td>\n",
              "    </tr>\n",
              "    <tr>\n",
              "      <th>Mozambique</th>\n",
              "      <td>-886270</td>\n",
              "    </tr>\n",
              "    <tr>\n",
              "      <th>Argentina</th>\n",
              "      <td>-827200</td>\n",
              "    </tr>\n",
              "    <tr>\n",
              "      <th>Colombia</th>\n",
              "      <td>-748210</td>\n",
              "    </tr>\n",
              "    <tr>\n",
              "      <th>Venezuela</th>\n",
              "      <td>-706920</td>\n",
              "    </tr>\n",
              "  </tbody>\n",
              "</table>\n",
              "</div>"
            ],
            "text/plain": [
              "            net_forest_conversion\n",
              "entity                           \n",
              "Brazil                  -10723950\n",
              "Indonesia                -2467520\n",
              "Tanzania                 -1585000\n",
              "Myanmar                  -1357120\n",
              "Paraguay                 -1291150\n",
              "Bolivia                   -922320\n",
              "Mozambique                -886270\n",
              "Argentina                 -827200\n",
              "Colombia                  -748210\n",
              "Venezuela                 -706920"
            ]
          },
          "metadata": {
            "tags": []
          },
          "execution_count": 16
        }
      ]
    },
    {
      "cell_type": "code",
      "metadata": {
        "colab": {
          "base_uri": "https://localhost:8080/",
          "height": 368
        },
        "id": "1yWt6rbH5nul",
        "outputId": "f00b221e-c1c9-4a00-aafe-2c7b8fbdd50e"
      },
      "source": [
        "last_10.plot(kind = 'bar', figsize = (8, 4), color = 'brown')\n",
        "plt.xlabel(\"Country's Name\", fontsize=10)\n",
        "plt.ylabel(\"Net_conversion (hectare)\", fontsize=10)\n",
        "\n",
        "plt.title('Fig 2: Countries with high forest deforestation', fontsize = 15)\n",
        "plt.plot()"
      ],
      "execution_count": 17,
      "outputs": [
        {
          "output_type": "execute_result",
          "data": {
            "text/plain": [
              "[]"
            ]
          },
          "metadata": {
            "tags": []
          },
          "execution_count": 17
        },
        {
          "output_type": "display_data",
          "data": {
            "image/png": "[encoded data removed]",
            "text/plain": [
              "<Figure size 576x288 with 1 Axes>"
            ]
          },
          "metadata": {
            "tags": [],
            "needs_background": "light"
          }
        }
      ]
    },
    {
      "cell_type": "markdown",
      "metadata": {
        "id": "Hvk2Cco_0mHN"
      },
      "source": [
        "#### Converting top 5 countries in pivot table"
      ]
    },
    {
      "cell_type": "code",
      "metadata": {
        "colab": {
          "base_uri": "https://localhost:8080/"
        },
        "id": "dXdzPjedoYgz",
        "outputId": "816b9081-816a-456c-c980-99629d7671bd"
      },
      "source": [
        "import csv\n",
        "f = open(\"drive/MyDrive/bootcamp/forest.csv\")\n",
        "csv_f = csv.reader(f)\n",
        "top_5_country = []\n",
        "\n",
        "for row in csv_f:\n",
        "  if row[0] == \"China\" or row[0] ==\"India\" or row[0] == \"United States\" or row[0]== \"Vietnam\" or row[0]==\"Russia\":\n",
        "    top_5_country.append(row);\n",
        "    print (row)\n",
        "print (top_5_country)"
      ],
      "execution_count": 18,
      "outputs": [
        {
          "output_type": "stream",
          "text": [
            "['China', 'CHN', '1990', '1986000']\n",
            "['China', 'CHN', '2000', '2360980']\n",
            "['China', 'CHN', '2010', '1936770']\n",
            "['China', 'CHN', '2015', '1936790']\n",
            "['India', 'IND', '1990', '365300']\n",
            "['India', 'IND', '2000', '190500']\n",
            "['India', 'IND', '2010', '266400']\n",
            "['India', 'IND', '2015', '266400']\n",
            "['Russia', 'RUS', '1990', '0']\n",
            "['Russia', 'RUS', '2000', '586710']\n",
            "['Russia', 'RUS', '2010', '-41030']\n",
            "['Russia', 'RUS', '2015', '76230']\n",
            "['United States', 'USA', '1990', '108600']\n",
            "['United States', 'USA', '2000', '518400']\n",
            "['United States', 'USA', '2010', '275000']\n",
            "['United States', 'USA', '2015', '0']\n",
            "['Vietnam', 'VNM', '1990', '240810']\n",
            "['Vietnam', 'VNM', '2000', '160400']\n",
            "['Vietnam', 'VNM', '2010', '134760']\n",
            "['Vietnam', 'VNM', '2015', '116250']\n",
            "[['China', 'CHN', '1990', '1986000'], ['China', 'CHN', '2000', '2360980'], ['China', 'CHN', '2010', '1936770'], ['China', 'CHN', '2015', '1936790'], ['India', 'IND', '1990', '365300'], ['India', 'IND', '2000', '190500'], ['India', 'IND', '2010', '266400'], ['India', 'IND', '2015', '266400'], ['Russia', 'RUS', '1990', '0'], ['Russia', 'RUS', '2000', '586710'], ['Russia', 'RUS', '2010', '-41030'], ['Russia', 'RUS', '2015', '76230'], ['United States', 'USA', '1990', '108600'], ['United States', 'USA', '2000', '518400'], ['United States', 'USA', '2010', '275000'], ['United States', 'USA', '2015', '0'], ['Vietnam', 'VNM', '1990', '240810'], ['Vietnam', 'VNM', '2000', '160400'], ['Vietnam', 'VNM', '2010', '134760'], ['Vietnam', 'VNM', '2015', '116250']]\n"
          ],
          "name": "stdout"
        }
      ]
    },
    {
      "cell_type": "code",
      "metadata": {
        "colab": {
          "base_uri": "https://localhost:8080/",
          "height": 204
        },
        "id": "z0MEoPToo2vm",
        "outputId": "0a71e0df-5a73-412a-c758-3fd6030b31a8"
      },
      "source": [
        "forest_df_top5 = pd.DataFrame(top_5_country,columns=[\"entity\",\"code\",\"year\",\"net_forest_conversion\"])\n",
        "forest_df_top5.head()"
      ],
      "execution_count": 19,
      "outputs": [
        {
          "output_type": "execute_result",
          "data": {
            "text/html": [
              "<div>\n",
              "<style scoped>\n",
              "    .dataframe tbody tr th:only-of-type {\n",
              "        vertical-align: middle;\n",
              "    }\n",
              "\n",
              "    .dataframe tbody tr th {\n",
              "        vertical-align: top;\n",
              "    }\n",
              "\n",
              "    .dataframe thead th {\n",
              "        text-align: right;\n",
              "    }\n",
              "</style>\n",
              "<table border=\"1\" class=\"dataframe\">\n",
              "  <thead>\n",
              "    <tr style=\"text-align: right;\">\n",
              "      <th></th>\n",
              "      <th>entity</th>\n",
              "      <th>code</th>\n",
              "      <th>year</th>\n",
              "      <th>net_forest_conversion</th>\n",
              "    </tr>\n",
              "  </thead>\n",
              "  <tbody>\n",
              "    <tr>\n",
              "      <th>0</th>\n",
              "      <td>China</td>\n",
              "      <td>CHN</td>\n",
              "      <td>1990</td>\n",
              "      <td>1986000</td>\n",
              "    </tr>\n",
              "    <tr>\n",
              "      <th>1</th>\n",
              "      <td>China</td>\n",
              "      <td>CHN</td>\n",
              "      <td>2000</td>\n",
              "      <td>2360980</td>\n",
              "    </tr>\n",
              "    <tr>\n",
              "      <th>2</th>\n",
              "      <td>China</td>\n",
              "      <td>CHN</td>\n",
              "      <td>2010</td>\n",
              "      <td>1936770</td>\n",
              "    </tr>\n",
              "    <tr>\n",
              "      <th>3</th>\n",
              "      <td>China</td>\n",
              "      <td>CHN</td>\n",
              "      <td>2015</td>\n",
              "      <td>1936790</td>\n",
              "    </tr>\n",
              "    <tr>\n",
              "      <th>4</th>\n",
              "      <td>India</td>\n",
              "      <td>IND</td>\n",
              "      <td>1990</td>\n",
              "      <td>365300</td>\n",
              "    </tr>\n",
              "  </tbody>\n",
              "</table>\n",
              "</div>"
            ],
            "text/plain": [
              "  entity code  year net_forest_conversion\n",
              "0  China  CHN  1990               1986000\n",
              "1  China  CHN  2000               2360980\n",
              "2  China  CHN  2010               1936770\n",
              "3  China  CHN  2015               1936790\n",
              "4  India  IND  1990                365300"
            ]
          },
          "metadata": {
            "tags": []
          },
          "execution_count": 19
        }
      ]
    },
    {
      "cell_type": "code",
      "metadata": {
        "colab": {
          "base_uri": "https://localhost:8080/"
        },
        "id": "To36AfbHQvic",
        "outputId": "8198b375-70b9-4c65-95ea-7a9d6acacc54"
      },
      "source": [
        "forest_df_top5.info()"
      ],
      "execution_count": 20,
      "outputs": [
        {
          "output_type": "stream",
          "text": [
            "<class 'pandas.core.frame.DataFrame'>\n",
            "RangeIndex: 20 entries, 0 to 19\n",
            "Data columns (total 4 columns):\n",
            " #   Column                 Non-Null Count  Dtype \n",
            "---  ------                 --------------  ----- \n",
            " 0   entity                 20 non-null     object\n",
            " 1   code                   20 non-null     object\n",
            " 2   year                   20 non-null     object\n",
            " 3   net_forest_conversion  20 non-null     object\n",
            "dtypes: object(4)\n",
            "memory usage: 768.0+ bytes\n"
          ],
          "name": "stdout"
        }
      ]
    },
    {
      "cell_type": "code",
      "metadata": {
        "id": "i5nJ3WUjQfwE"
      },
      "source": [
        "forest_df_top5['net_forest_conversion'] = forest_df_top5.net_forest_conversion.astype(int)\n",
        "forest_df_top5['year'] = forest_df_top5.year.astype(int)\n"
      ],
      "execution_count": 21,
      "outputs": []
    },
    {
      "cell_type": "code",
      "metadata": {
        "id": "Dey64mroItR_"
      },
      "source": [
        "forest_df_top5.to_excel(\"new_data_forest.xlsx\",sheet_name='top_5_countries')  "
      ],
      "execution_count": 22,
      "outputs": []
    },
    {
      "cell_type": "code",
      "metadata": {
        "id": "kQljFYHzfwwC",
        "colab": {
          "base_uri": "https://localhost:8080/",
          "height": 669
        },
        "outputId": "bd3dd922-0065-471a-aed9-dbacfa9da47b"
      },
      "source": [
        "forest_df_top5.pivot(index=\"year\", columns=\"entity\", values=\"net_forest_conversion\")\n",
        "forest_df_top5"
      ],
      "execution_count": 23,
      "outputs": [
        {
          "output_type": "execute_result",
          "data": {
            "text/html": [
              "<div>\n",
              "<style scoped>\n",
              "    .dataframe tbody tr th:only-of-type {\n",
              "        vertical-align: middle;\n",
              "    }\n",
              "\n",
              "    .dataframe tbody tr th {\n",
              "        vertical-align: top;\n",
              "    }\n",
              "\n",
              "    .dataframe thead th {\n",
              "        text-align: right;\n",
              "    }\n",
              "</style>\n",
              "<table border=\"1\" class=\"dataframe\">\n",
              "  <thead>\n",
              "    <tr style=\"text-align: right;\">\n",
              "      <th></th>\n",
              "      <th>entity</th>\n",
              "      <th>code</th>\n",
              "      <th>year</th>\n",
              "      <th>net_forest_conversion</th>\n",
              "    </tr>\n",
              "  </thead>\n",
              "  <tbody>\n",
              "    <tr>\n",
              "      <th>0</th>\n",
              "      <td>China</td>\n",
              "      <td>CHN</td>\n",
              "      <td>1990</td>\n",
              "      <td>1986000</td>\n",
              "    </tr>\n",
              "    <tr>\n",
              "      <th>1</th>\n",
              "      <td>China</td>\n",
              "      <td>CHN</td>\n",
              "      <td>2000</td>\n",
              "      <td>2360980</td>\n",
              "    </tr>\n",
              "    <tr>\n",
              "      <th>2</th>\n",
              "      <td>China</td>\n",
              "      <td>CHN</td>\n",
              "      <td>2010</td>\n",
              "      <td>1936770</td>\n",
              "    </tr>\n",
              "    <tr>\n",
              "      <th>3</th>\n",
              "      <td>China</td>\n",
              "      <td>CHN</td>\n",
              "      <td>2015</td>\n",
              "      <td>1936790</td>\n",
              "    </tr>\n",
              "    <tr>\n",
              "      <th>4</th>\n",
              "      <td>India</td>\n",
              "      <td>IND</td>\n",
              "      <td>1990</td>\n",
              "      <td>365300</td>\n",
              "    </tr>\n",
              "    <tr>\n",
              "      <th>5</th>\n",
              "      <td>India</td>\n",
              "      <td>IND</td>\n",
              "      <td>2000</td>\n",
              "      <td>190500</td>\n",
              "    </tr>\n",
              "    <tr>\n",
              "      <th>6</th>\n",
              "      <td>India</td>\n",
              "      <td>IND</td>\n",
              "      <td>2010</td>\n",
              "      <td>266400</td>\n",
              "    </tr>\n",
              "    <tr>\n",
              "      <th>7</th>\n",
              "      <td>India</td>\n",
              "      <td>IND</td>\n",
              "      <td>2015</td>\n",
              "      <td>266400</td>\n",
              "    </tr>\n",
              "    <tr>\n",
              "      <th>8</th>\n",
              "      <td>Russia</td>\n",
              "      <td>RUS</td>\n",
              "      <td>1990</td>\n",
              "      <td>0</td>\n",
              "    </tr>\n",
              "    <tr>\n",
              "      <th>9</th>\n",
              "      <td>Russia</td>\n",
              "      <td>RUS</td>\n",
              "      <td>2000</td>\n",
              "      <td>586710</td>\n",
              "    </tr>\n",
              "    <tr>\n",
              "      <th>10</th>\n",
              "      <td>Russia</td>\n",
              "      <td>RUS</td>\n",
              "      <td>2010</td>\n",
              "      <td>-41030</td>\n",
              "    </tr>\n",
              "    <tr>\n",
              "      <th>11</th>\n",
              "      <td>Russia</td>\n",
              "      <td>RUS</td>\n",
              "      <td>2015</td>\n",
              "      <td>76230</td>\n",
              "    </tr>\n",
              "    <tr>\n",
              "      <th>12</th>\n",
              "      <td>United States</td>\n",
              "      <td>USA</td>\n",
              "      <td>1990</td>\n",
              "      <td>108600</td>\n",
              "    </tr>\n",
              "    <tr>\n",
              "      <th>13</th>\n",
              "      <td>United States</td>\n",
              "      <td>USA</td>\n",
              "      <td>2000</td>\n",
              "      <td>518400</td>\n",
              "    </tr>\n",
              "    <tr>\n",
              "      <th>14</th>\n",
              "      <td>United States</td>\n",
              "      <td>USA</td>\n",
              "      <td>2010</td>\n",
              "      <td>275000</td>\n",
              "    </tr>\n",
              "    <tr>\n",
              "      <th>15</th>\n",
              "      <td>United States</td>\n",
              "      <td>USA</td>\n",
              "      <td>2015</td>\n",
              "      <td>0</td>\n",
              "    </tr>\n",
              "    <tr>\n",
              "      <th>16</th>\n",
              "      <td>Vietnam</td>\n",
              "      <td>VNM</td>\n",
              "      <td>1990</td>\n",
              "      <td>240810</td>\n",
              "    </tr>\n",
              "    <tr>\n",
              "      <th>17</th>\n",
              "      <td>Vietnam</td>\n",
              "      <td>VNM</td>\n",
              "      <td>2000</td>\n",
              "      <td>160400</td>\n",
              "    </tr>\n",
              "    <tr>\n",
              "      <th>18</th>\n",
              "      <td>Vietnam</td>\n",
              "      <td>VNM</td>\n",
              "      <td>2010</td>\n",
              "      <td>134760</td>\n",
              "    </tr>\n",
              "    <tr>\n",
              "      <th>19</th>\n",
              "      <td>Vietnam</td>\n",
              "      <td>VNM</td>\n",
              "      <td>2015</td>\n",
              "      <td>116250</td>\n",
              "    </tr>\n",
              "  </tbody>\n",
              "</table>\n",
              "</div>"
            ],
            "text/plain": [
              "           entity code  year  net_forest_conversion\n",
              "0           China  CHN  1990                1986000\n",
              "1           China  CHN  2000                2360980\n",
              "2           China  CHN  2010                1936770\n",
              "3           China  CHN  2015                1936790\n",
              "4           India  IND  1990                 365300\n",
              "5           India  IND  2000                 190500\n",
              "6           India  IND  2010                 266400\n",
              "7           India  IND  2015                 266400\n",
              "8          Russia  RUS  1990                      0\n",
              "9          Russia  RUS  2000                 586710\n",
              "10         Russia  RUS  2010                 -41030\n",
              "11         Russia  RUS  2015                  76230\n",
              "12  United States  USA  1990                 108600\n",
              "13  United States  USA  2000                 518400\n",
              "14  United States  USA  2010                 275000\n",
              "15  United States  USA  2015                      0\n",
              "16        Vietnam  VNM  1990                 240810\n",
              "17        Vietnam  VNM  2000                 160400\n",
              "18        Vietnam  VNM  2010                 134760\n",
              "19        Vietnam  VNM  2015                 116250"
            ]
          },
          "metadata": {
            "tags": []
          },
          "execution_count": 23
        }
      ]
    },
    {
      "cell_type": "markdown",
      "metadata": {
        "id": "Ff4gQzo2qP9r"
      },
      "source": [
        "#### Visualizing data of top 5 countries through seaborn"
      ]
    },
    {
      "cell_type": "markdown",
      "metadata": {
        "id": "giNqKWY7gmjw"
      },
      "source": [
        "It shows the position of country in different years about how far it is upgrading or degrading the forest conservation plan."
      ]
    },
    {
      "cell_type": "code",
      "metadata": {
        "id": "Ea3G8t3xEigD",
        "colab": {
          "base_uri": "https://localhost:8080/",
          "height": 429
        },
        "outputId": "0e9ace01-4b95-401c-9c20-b2f20f375fa1"
      },
      "source": [
        "sns.set(style=\"darkgrid\")\n",
        "sns.lineplot(data=forest_df_top5, x=\"year\", y=\"net_forest_conversion\", hue=\"entity\", style=\"entity\", markers=True, dashes=False, ci=68, lw=1)\n",
        "plt.legend(bbox_to_anchor=(1, 0.65), loc=1, borderaxespad=0.)\n",
        "plt.title(\"Fig 3: Yearly data of Top 5 Countries\", fontsize = 15\n",
        "          )"
      ],
      "execution_count": 24,
      "outputs": [
        {
          "output_type": "execute_result",
          "data": {
            "text/plain": [
              "Text(0.5, 1.0, 'Fig 3: Yearly data of Top 5 Countries')"
            ]
          },
          "metadata": {
            "tags": []
          },
          "execution_count": 24
        },
        {
          "output_type": "display_data",
          "data": {
            "image/png": "[encoded data removed]",
            "text/plain": [
              "<Figure size 720x432 with 1 Axes>"
            ]
          },
          "metadata": {
            "tags": []
          }
        }
      ]
    },
    {
      "cell_type": "markdown",
      "metadata": {
        "id": "QfOiBcHYg5Te"
      },
      "source": [
        "## Installing module for data manipulation"
      ]
    },
    {
      "cell_type": "code",
      "metadata": {
        "colab": {
          "base_uri": "https://localhost:8080/"
        },
        "id": "__VKi6IDMF47",
        "outputId": "e54babec-9c70-4e4c-cbd7-66723229de2f"
      },
      "source": [
        "pip install pycountry_convert"
      ],
      "execution_count": 25,
      "outputs": [
        {
          "output_type": "stream",
          "text": [
            "Collecting pycountry_convert\n",
            "  Downloading https://files.pythonhosted.org/packages/9b/e7/26c14899a43c34e04a58e3772007afe79dbd64fac15d2fbaeedff24082f2/pycountry_convert-0.7.2-py3-none-any.whl\n",
            "Collecting pytest-mock>=1.6.3\n",
            "  Downloading https://files.pythonhosted.org/packages/fd/be/ce7e79a7bf68ff6630f662f58a8dc68e2a602d8649a1c0e05c8e6b9a2177/pytest_mock-3.6.1-py3-none-any.whl\n",
            "Collecting repoze.lru>=0.7\n",
            "  Downloading https://files.pythonhosted.org/packages/b0/30/6cc0c95f0b59ad4b3b9163bff7cdcf793cc96fac64cf398ff26271f5cf5e/repoze.lru-0.7-py3-none-any.whl\n",
            "Requirement already satisfied: wheel>=0.30.0 in /usr/local/lib/python3.7/dist-packages (from pycountry_convert) (0.36.2)\n",
            "Collecting pytest-cov>=2.5.1\n",
            "  Downloading https://files.pythonhosted.org/packages/ba/84/576b071aef9ac9301e5c0ff35d117e12db50b87da6f12e745e9c5f745cc2/pytest_cov-2.12.1-py2.py3-none-any.whl\n",
            "Collecting pprintpp>=0.3.0\n",
            "  Downloading https://files.pythonhosted.org/packages/4e/d1/e4ed95fdd3ef13b78630280d9e9e240aeb65cc7c544ec57106149c3942fb/pprintpp-0.4.0-py2.py3-none-any.whl\n",
            "Collecting pycountry>=16.11.27.1\n",
            "\u001b[?25l  Downloading https://files.pythonhosted.org/packages/76/73/6f1a412f14f68c273feea29a6ea9b9f1e268177d32e0e69ad6790d306312/pycountry-20.7.3.tar.gz (10.1MB)\n",
            "\u001b[K     |████████████████████████████████| 10.1MB 18.9MB/s \n",
            "\u001b[?25hRequirement already satisfied: pytest>=3.4.0 in /usr/local/lib/python3.7/dist-packages (from pycountry_convert) (3.6.4)\n",
            "Requirement already satisfied: toml in /usr/local/lib/python3.7/dist-packages (from pytest-cov>=2.5.1->pycountry_convert) (0.10.2)\n",
            "Collecting coverage>=5.2.1\n",
            "\u001b[?25l  Downloading https://files.pythonhosted.org/packages/16/e0/fc9f7bd9b84e6b41d0aad1a113e36714aac0c0a9b307aca5f9af443bc50f/coverage-5.5-cp37-cp37m-manylinux2010_x86_64.whl (242kB)\n",
            "\u001b[K     |████████████████████████████████| 245kB 29.3MB/s \n",
            "\u001b[?25hRequirement already satisfied: pluggy<0.8,>=0.5 in /usr/local/lib/python3.7/dist-packages (from pytest>=3.4.0->pycountry_convert) (0.7.1)\n",
            "Requirement already satisfied: six>=1.10.0 in /usr/local/lib/python3.7/dist-packages (from pytest>=3.4.0->pycountry_convert) (1.15.0)\n",
            "Requirement already satisfied: attrs>=17.4.0 in /usr/local/lib/python3.7/dist-packages (from pytest>=3.4.0->pycountry_convert) (21.2.0)\n",
            "Requirement already satisfied: py>=1.5.0 in /usr/local/lib/python3.7/dist-packages (from pytest>=3.4.0->pycountry_convert) (1.10.0)\n",
            "Requirement already satisfied: atomicwrites>=1.0 in /usr/local/lib/python3.7/dist-packages (from pytest>=3.4.0->pycountry_convert) (1.4.0)\n",
            "Requirement already satisfied: setuptools in /usr/local/lib/python3.7/dist-packages (from pytest>=3.4.0->pycountry_convert) (57.0.0)\n",
            "Requirement already satisfied: more-itertools>=4.0.0 in /usr/local/lib/python3.7/dist-packages (from pytest>=3.4.0->pycountry_convert) (8.8.0)\n",
            "Building wheels for collected packages: pycountry\n",
            "  Building wheel for pycountry (setup.py) ... \u001b[?25l\u001b[?25hdone\n",
            "  Created wheel for pycountry: filename=pycountry-20.7.3-py2.py3-none-any.whl size=10746883 sha256=88ae321081456779f2ade35c0cfa952046ca35f86dc945244284c93e3bc2e4c2\n",
            "  Stored in directory: /root/.cache/pip/wheels/33/4e/a6/be297e6b83567e537bed9df4a93f8590ec01c1acfbcd405348\n",
            "Successfully built pycountry\n",
            "\u001b[31mERROR: datascience 0.10.6 has requirement coverage==3.7.1, but you'll have coverage 5.5 which is incompatible.\u001b[0m\n",
            "\u001b[31mERROR: datascience 0.10.6 has requirement folium==0.2.1, but you'll have folium 0.8.3 which is incompatible.\u001b[0m\n",
            "\u001b[31mERROR: coveralls 0.5 has requirement coverage<3.999,>=3.6, but you'll have coverage 5.5 which is incompatible.\u001b[0m\n",
            "\u001b[31mERROR: pytest-mock 3.6.1 has requirement pytest>=5.0, but you'll have pytest 3.6.4 which is incompatible.\u001b[0m\n",
            "\u001b[31mERROR: pytest-cov 2.12.1 has requirement pytest>=4.6, but you'll have pytest 3.6.4 which is incompatible.\u001b[0m\n",
            "Installing collected packages: pytest-mock, repoze.lru, coverage, pytest-cov, pprintpp, pycountry, pycountry-convert\n",
            "  Found existing installation: coverage 3.7.1\n",
            "    Uninstalling coverage-3.7.1:\n",
            "      Successfully uninstalled coverage-3.7.1\n",
            "Successfully installed coverage-5.5 pprintpp-0.4.0 pycountry-20.7.3 pycountry-convert-0.7.2 pytest-cov-2.12.1 pytest-mock-3.6.1 repoze.lru-0.7\n"
          ],
          "name": "stdout"
        }
      ]
    },
    {
      "cell_type": "markdown",
      "metadata": {
        "id": "ppBiakbBoVSL"
      },
      "source": [
        "####Addition of new Column - continent"
      ]
    },
    {
      "cell_type": "code",
      "metadata": {
        "id": "psW63dE2iz-z",
        "colab": {
          "base_uri": "https://localhost:8080/"
        },
        "outputId": "9376d758-df6c-4961-83b7-cfa64979c2cc"
      },
      "source": [
        "import csv\n",
        "import pycountry_convert as pc\n",
        "# import pandas as pd\n",
        "f = open(\"drive/MyDrive/bootcamp/forest.csv\")\n",
        "csv_f = csv.reader(f)\n",
        "csv_f_with_continent_name = []\n",
        "country_name = forest.entity.unique()\n",
        "\n",
        "for row in csv_f:\n",
        "  if row[1] != \"code\" and len(row[1]) == 3:\n",
        "    alpha2 = pc.country_alpha3_to_country_alpha2(row[1])\n",
        "    # print(alpha2)\n",
        "    code_continent = pc.country_alpha2_to_continent_code(alpha2)\n",
        "    name_continent = pc.convert_continent_code_to_continent_name(code_continent)\n",
        "    row.append(name_continent)\n",
        "    csv_f_with_continent_name.append(row);\n",
        "print(csv_f_with_continent_name)"
      ],
      "execution_count": 26,
      "outputs": [
        {
          "output_type": "stream",
          "text": [
            "[['Algeria', 'DZA', '1990', '-8800', 'Africa'], ['Algeria', 'DZA', '2000', '33900', 'Africa'], ['Algeria', 'DZA', '2010', '7600', 'Africa'], ['Algeria', 'DZA', '2015', '-1400', 'Africa'], ['Argentina', 'ARG', '1990', '-182600', 'South America'], ['Argentina', 'ARG', '2000', '-316400', 'South America'], ['Argentina', 'ARG', '2010', '-223400', 'South America'], ['Argentina', 'ARG', '2015', '-104800', 'South America'], ['Aruba', 'ABW', '1990', '0', 'North America'], ['Aruba', 'ABW', '2000', '0', 'North America'], ['Aruba', 'ABW', '2010', '0', 'North America'], ['Aruba', 'ABW', '2015', '0', 'North America'], ['Australia', 'AUS', '1990', '-206810', 'Oceania'], ['Australia', 'AUS', '2000', '-226800', 'Oceania'], ['Australia', 'AUS', '2010', '709680', 'Oceania'], ['Austria', 'AUT', '1990', '6250', 'Europe'], ['Austria', 'AUT', '2000', '2510', 'Europe'], ['Austria', 'AUT', '2010', '3600', 'Europe'], ['Austria', 'AUT', '2015', '3590', 'Europe'], ['Azerbaijan', 'AZE', '2010', '9080', 'Asia'], ['Azerbaijan', 'AZE', '2015', '14160', 'Asia'], ['Bahrain', 'BHR', '1990', '10', 'Asia'], ['Bahrain', 'BHR', '2000', '10', 'Asia'], ['Bahrain', 'BHR', '2010', '20', 'Asia'], ['Bahrain', 'BHR', '2015', '20', 'Asia'], ['Bangladesh', 'BGD', '1990', '0', 'Asia'], ['Bangladesh', 'BGD', '2000', '-3200', 'Asia'], ['Bangladesh', 'BGD', '2010', '-990', 'Asia'], ['Bangladesh', 'BGD', '2015', '0', 'Asia'], ['Belarus', 'BLR', '2000', '26110', 'Europe'], ['Belarus', 'BLR', '2010', '19900', 'Europe'], ['Belarus', 'BLR', '2015', '26820', 'Europe'], ['Belgium', 'BEL', '2010', '-110', 'Europe'], ['Belgium', 'BEL', '2015', '0', 'Europe'], ['Belize', 'BLZ', '1990', '-14070', 'North America'], ['Belize', 'BLZ', '2000', '-6790', 'North America'], ['Belize', 'BLZ', '2010', '-11710', 'North America'], ['Belize', 'BLZ', '2015', '-11160', 'North America'], ['Bhutan', 'BTN', '1990', '9930', 'Asia'], ['Bhutan', 'BTN', '2000', '9930', 'Asia'], ['Bhutan', 'BTN', '2010', '1980', 'Asia'], ['Bhutan', 'BTN', '2015', '1980', 'Asia'], ['Bolivia', 'BOL', '1990', '-270330', 'South America'], ['Bolivia', 'BOL', '2000', '-201540', 'South America'], ['Bolivia', 'BOL', '2010', '-211760', 'South America'], ['Bolivia', 'BOL', '2015', '-238690', 'South America'], ['Brazil', 'BRA', '1990', '-3780940', 'South America'], ['Brazil', 'BRA', '2000', '-3950790', 'South America'], ['Brazil', 'BRA', '2010', '-1539180', 'South America'], ['Brazil', 'BRA', '2015', '-1453040', 'South America'], ['Bulgaria', 'BGR', '1990', '4800', 'Europe'], ['Bulgaria', 'BGR', '2000', '36200', 'Europe'], ['Bulgaria', 'BGR', '2010', '19200', 'Europe'], ['Bulgaria', 'BGR', '2015', '12000', 'Europe'], ['Burundi', 'BDI', '1990', '-8250', 'Africa'], ['Burundi', 'BDI', '2000', '0', 'Africa'], ['Burundi', 'BDI', '2010', '17140', 'Africa'], ['Burundi', 'BDI', '2015', '0', 'Africa'], ['Cameroon', 'CMR', '1990', '-90250', 'Africa'], ['Cameroon', 'CMR', '2000', '-69700', 'Africa'], ['Cameroon', 'CMR', '2010', '-56000', 'Africa'], ['Cameroon', 'CMR', '2015', '-56000', 'Africa'], ['Canada', 'CAN', '1990', '-47100', 'North America'], ['Canada', 'CAN', '2000', '-47980', 'North America'], ['Canada', 'CAN', '2010', '-41300', 'North America'], ['Canada', 'CAN', '2015', '-37520', 'North America'], ['Cape Verde', 'CPV', '2000', '300', 'Africa'], ['Cape Verde', 'CPV', '2010', '300', 'Africa'], ['Cape Verde', 'CPV', '2015', '300', 'Africa'], ['Cayman Islands', 'CYM', '1990', '-20', 'North America'], ['Cayman Islands', 'CYM', '2000', '-20', 'North America'], ['Cayman Islands', 'CYM', '2010', '0', 'North America'], ['Cayman Islands', 'CYM', '2015', '0', 'North America'], ['Central African Republic', 'CAF', '1990', '-30000', 'Africa'], ['Central African Republic', 'CAF', '2000', '-30000', 'Africa'], ['Central African Republic', 'CAF', '2010', '-30000', 'Africa'], ['Central African Republic', 'CAF', '2015', '-30000', 'Africa'], ['Chile', 'CHL', '1990', '57100', 'South America'], ['Chile', 'CHL', '2000', '90820', 'South America'], ['Chile', 'CHL', '2010', '174160', 'South America'], ['Chile', 'CHL', '2015', '122920', 'South America'], ['China', 'CHN', '1990', '1986000', 'Asia'], ['China', 'CHN', '2000', '2360980', 'Asia'], ['China', 'CHN', '2010', '1936770', 'Asia'], ['China', 'CHN', '2015', '1936790', 'Asia'], ['Colombia', 'COL', '1990', '-222260', 'South America'], ['Colombia', 'COL', '2000', '-192770', 'South America'], ['Colombia', 'COL', '2010', '-134630', 'South America'], ['Colombia', 'COL', '2015', '-198550', 'South America'], ['Congo', 'COG', '1990', '-12000', 'Africa'], ['Congo', 'COG', '2000', '-12000', 'Africa'], ['Congo', 'COG', '2010', '-12000', 'Africa'], ['Congo', 'COG', '2015', '-13800', 'Africa'], ['Costa Rica', 'CRI', '1990', '-5020', 'North America'], ['Costa Rica', 'CRI', '2000', '1400', 'North America'], ['Costa Rica', 'CRI', '2010', '16370', 'North America'], ['Costa Rica', 'CRI', '2015', '16370', 'North America'], ['Croatia', 'HRV', '2000', '3500', 'Europe'], ['Croatia', 'HRV', '2010', '400', 'Europe'], ['Croatia', 'HRV', '2015', '3420', 'Europe'], ['Cuba', 'CUB', '1990', '37700', 'North America'], ['Cuba', 'CUB', '2000', '49700', 'North America'], ['Cuba', 'CUB', '2010', '50400', 'North America'], ['Cuba', 'CUB', '2015', '11600', 'North America'], ['Denmark', 'DNK', '1990', '4020', 'Europe'], ['Denmark', 'DNK', '2000', '1490', 'Europe'], ['Denmark', 'DNK', '2010', '7640', 'Europe'], ['Denmark', 'DNK', '2015', '750', 'Europe'], ['Djibouti', 'DJI', '1990', '0', 'Africa'], ['Djibouti', 'DJI', '2000', '0', 'Africa'], ['Djibouti', 'DJI', '2010', '0', 'Africa'], ['Djibouti', 'DJI', '2015', '40', 'Africa'], ['Dominican Republic', 'DOM', '1990', '37760', 'North America'], ['Dominican Republic', 'DOM', '2000', '10070', 'North America'], ['Dominican Republic', 'DOM', '2010', '6110', 'North America'], ['Ecuador', 'ECU', '1990', '-90170', 'South America'], ['Ecuador', 'ECU', '2000', '-70230', 'South America'], ['Ecuador', 'ECU', '2010', '-41800', 'South America'], ['Ecuador', 'ECU', '2015', '-64270', 'South America'], ['El Salvador', 'SLV', '1990', '-4500', 'North America'], ['El Salvador', 'SLV', '2000', '-4500', 'North America'], ['El Salvador', 'SLV', '2010', '-4500', 'North America'], ['El Salvador', 'SLV', '2015', '-4500', 'North America'], ['Equatorial Guinea', 'GNQ', '2000', '-8360', 'Africa'], ['Equatorial Guinea', 'GNQ', '2010', '-8360', 'Africa'], ['Equatorial Guinea', 'GNQ', '2015', '-8360', 'Africa'], ['Estonia', 'EST', '2000', '9710', 'Europe'], ['Estonia', 'EST', '2010', '17000', 'Europe'], ['Estonia', 'EST', '2015', '3480', 'Europe'], ['Ethiopia', 'ETH', '2000', '-73000', 'Africa'], ['Ethiopia', 'ETH', '2010', '-73000', 'Africa'], ['Ethiopia', 'ETH', '2015', '-73000', 'Africa'], ['Falkland Islands', 'FLK', '1990', '0', 'South America'], ['Falkland Islands', 'FLK', '2000', '0', 'South America'], ['Falkland Islands', 'FLK', '2010', '0', 'South America'], ['Falkland Islands', 'FLK', '2015', '0', 'South America'], ['Faroe Islands', 'FRO', '1990', '0', 'Europe'], ['Faroe Islands', 'FRO', '2000', '0', 'Europe'], ['Faroe Islands', 'FRO', '2010', '0', 'Europe'], ['Faroe Islands', 'FRO', '2015', '0', 'Europe'], ['Finland', 'FIN', '1990', '57030', 'Europe'], ['Finland', 'FIN', '2000', '-20360', 'Europe'], ['Finland', 'FIN', '2010', '33400', 'Europe'], ['French Guiana', 'GUF', '1990', '-4560', 'South America'], ['French Guiana', 'GUF', '2000', '-4290', 'South America'], ['French Guiana', 'GUF', '2010', '-3300', 'South America'], ['French Guiana', 'GUF', '2015', '-3430', 'South America'], ['Gabon', 'GAB', '1990', '-6110', 'Africa'], ['Gabon', 'GAB', '2000', '-5060', 'Africa'], ['Gabon', 'GAB', '2010', '-11880', 'Africa'], ['Gabon', 'GAB', '2015', '-11880', 'Africa'], ['Georgia', 'GEO', '2000', '6180', 'Asia'], ['Georgia', 'GEO', '2010', '0', 'Asia'], ['Georgia', 'GEO', '2015', '0', 'Asia'], ['Germany', 'DEU', '1990', '5400', 'Europe'], ['Germany', 'DEU', '2000', '5500', 'Europe'], ['Germany', 'DEU', '2010', '2000', 'Europe'], ['Germany', 'DEU', '2015', '0', 'Europe'], ['Gibraltar', 'GIB', '1990', '0', 'Europe'], ['Gibraltar', 'GIB', '2000', '0', 'Europe'], ['Gibraltar', 'GIB', '2010', '0', 'Europe'], ['Gibraltar', 'GIB', '2015', '0', 'Europe'], ['Greenland', 'GRL', '1990', '0', 'North America'], ['Greenland', 'GRL', '2000', '0', 'North America'], ['Greenland', 'GRL', '2010', '0', 'North America'], ['Greenland', 'GRL', '2015', '0', 'North America'], ['Guadeloupe', 'GLP', '1990', '-90', 'North America'], ['Guadeloupe', 'GLP', '2000', '-70', 'North America'], ['Guadeloupe', 'GLP', '2010', '130', 'North America'], ['Guadeloupe', 'GLP', '2015', '-60', 'North America'], ['Guatemala', 'GTM', '1990', '-57200', 'North America'], ['Guatemala', 'GTM', '2000', '-48660', 'North America'], ['Guatemala', 'GTM', '2010', '-27360', 'North America'], ['Guatemala', 'GTM', '2015', '-11600', 'North America'], ['Guinea', 'GIN', '1990', '-34700', 'Africa'], ['Guyana', 'GUY', '1990', '-3790', 'South America'], ['Guyana', 'GUY', '2000', '-4440', 'South America'], ['Guyana', 'GUY', '2010', '-11690', 'South America'], ['Guyana', 'GUY', '2015', '-9200', 'South America'], ['Honduras', 'HND', '1990', '-20950', 'North America'], ['Honduras', 'HND', '2000', '-20280', 'North America'], ['Honduras', 'HND', '2010', '-22330', 'North America'], ['Honduras', 'HND', '2015', '-20910', 'North America'], ['Hungary', 'HUN', '1990', '10730', 'Europe'], ['Hungary', 'HUN', '2000', '12520', 'Europe'], ['Hungary', 'HUN', '2010', '2890', 'Europe'], ['Hungary', 'HUN', '2015', '-1560', 'Europe'], ['Iceland', 'ISL', '1990', '1280', 'Europe'], ['Iceland', 'ISL', '2000', '1480', 'Europe'], ['Iceland', 'ISL', '2010', '700', 'Europe'], ['Iceland', 'ISL', '2015', '640', 'Europe'], ['India', 'IND', '1990', '365300', 'Asia'], ['India', 'IND', '2000', '190500', 'Asia'], ['India', 'IND', '2010', '266400', 'Asia'], ['India', 'IND', '2015', '266400', 'Asia'], ['Indonesia', 'IDN', '1990', '-1726500', 'Asia'], ['Indonesia', 'IDN', '2000', '-162080', 'Asia'], ['Indonesia', 'IDN', '2015', '-578940', 'Asia'], ['Iraq', 'IRQ', '1990', '1400', 'Asia'], ['Iraq', 'IRQ', '2000', '700', 'Asia'], ['Iraq', 'IRQ', '2010', '0', 'Asia'], ['Iraq', 'IRQ', '2015', '0', 'Asia'], ['Ireland', 'IRL', '1990', '16870', 'Europe'], ['Ireland', 'IRL', '2000', '9000', 'Europe'], ['Ireland', 'IRL', '2010', '6860', 'Europe'], ['Ireland', 'IRL', '2015', '5470', 'Europe'], ['Isle of Man', 'IMN', '1990', '0', 'Europe'], ['Isle of Man', 'IMN', '2000', '0', 'Europe'], ['Isle of Man', 'IMN', '2010', '0', 'Europe'], ['Isle of Man', 'IMN', '2015', '0', 'Europe'], ['Italy', 'ITA', '2010', '53810', 'Europe'], ['Jamaica', 'JAM', '1990', '-30', 'North America'], ['Jamaica', 'JAM', '2000', '3740', 'North America'], ['Jamaica', 'JAM', '2010', '3800', 'North America'], ['Jamaica', 'JAM', '2015', '3890', 'North America'], ['Kuwait', 'KWT', '1990', '140', 'Asia'], ['Kuwait', 'KWT', '2000', '140', 'Asia'], ['Kuwait', 'KWT', '2010', '0', 'Asia'], ['Kuwait', 'KWT', '2015', '0', 'Asia'], ['Kyrgyzstan', 'KGZ', '2000', '4880', 'Asia'], ['Kyrgyzstan', 'KGZ', '2010', '4430', 'Asia'], ['Kyrgyzstan', 'KGZ', '2015', '12710', 'Asia'], ['Latvia', 'LVA', '2000', '13110', 'Europe'], ['Latvia', 'LVA', '2010', '3860', 'Europe'], ['Latvia', 'LVA', '2015', '3870', 'Europe'], ['Liberia', 'LBR', '1990', '-30260', 'Africa'], ['Liberia', 'LBR', '2000', '-30260', 'Africa'], ['Liberia', 'LBR', '2010', '-30260', 'Africa'], ['Liberia', 'LBR', '2015', '-30260', 'Africa'], ['Liechtenstein', 'LIE', '1990', '0', 'Europe'], ['Liechtenstein', 'LIE', '2000', '0', 'Europe'], ['Liechtenstein', 'LIE', '2010', '0', 'Europe'], ['Liechtenstein', 'LIE', '2015', '0', 'Europe'], ['Lithuania', 'LTU', '2000', '15000', 'Europe'], ['Lithuania', 'LTU', '2010', '3400', 'Europe'], ['Lithuania', 'LTU', '2015', '2800', 'Europe'], ['Madagascar', 'MDG', '1990', '-66900', 'Africa'], ['Malawi', 'MWI', '1990', '-42000', 'Africa'], ['Malawi', 'MWI', '2000', '-42000', 'Africa'], ['Malawi', 'MWI', '2010', '-42000', 'Africa'], ['Malawi', 'MWI', '2015', '-42000', 'Africa'], ['Maldives', 'MDV', '1990', '0', 'Asia'], ['Maldives', 'MDV', '2000', '0', 'Asia'], ['Maldives', 'MDV', '2010', '0', 'Asia'], ['Maldives', 'MDV', '2015', '0', 'Asia'], ['Mali', 'MLI', '1990', '-79000', 'Africa'], ['Mali', 'MLI', '2000', '-79000', 'Africa'], ['Mali', 'MLI', '2010', '-79000', 'Africa'], ['Mali', 'MLI', '2015', '0', 'Africa'], ['Martinique', 'MTQ', '1990', '90', 'North America'], ['Martinique', 'MTQ', '2000', '150', 'North America'], ['Martinique', 'MTQ', '2010', '200', 'North America'], ['Martinique', 'MTQ', '2015', '200', 'North America'], ['Mauritania', 'MRT', '1990', '-5440', 'Africa'], ['Mauritania', 'MRT', '2000', '-5440', 'Africa'], ['Mauritania', 'MRT', '2010', '-5440', 'Africa'], ['Mauritania', 'MRT', '2015', '-5450', 'Africa'], ['Mauritius', 'MUS', '1990', '90', 'Africa'], ['Mauritius', 'MUS', '2000', '-350', 'Africa'], ['Mauritius', 'MUS', '2010', '-20', 'Africa'], ['Mauritius', 'MUS', '2015', '90', 'Africa'], ['Mayotte', 'MYT', '1990', '-340', 'Africa'], ['Mayotte', 'MYT', '2000', '-130', 'Africa'], ['Mayotte', 'MYT', '2010', '-50', 'Africa'], ['Mayotte', 'MYT', '2015', '-50', 'Africa'], ['Mexico', 'MEX', '1990', '-221030', 'North America'], ['Mexico', 'MEX', '2000', '-143800', 'North America'], ['Mexico', 'MEX', '2010', '-122480', 'North America'], ['Mexico', 'MEX', '2015', '-127770', 'North America'], ['Moldova', 'MDA', '2000', '3010', 'Europe'], ['Moldova', 'MDA', '2010', '2380', 'Europe'], ['Moldova', 'MDA', '2015', '20', 'Europe'], ['Monaco', 'MCO', '1990', '0', 'Europe'], ['Monaco', 'MCO', '2000', '0', 'Europe'], ['Monaco', 'MCO', '2010', '0', 'Europe'], ['Monaco', 'MCO', '2015', '0', 'Europe'], ['Mongolia', 'MNG', '1990', '-8810', 'Asia'], ['Mongolia', 'MNG', '2000', '-8000', 'Asia'], ['Mongolia', 'MNG', '2010', '-1110', 'Asia'], ['Mongolia', 'MNG', '2015', '-1110', 'Asia'], ['Montenegro', 'MNE', '2010', '0', 'Europe'], ['Montenegro', 'MNE', '2015', '0', 'Europe'], ['Morocco', 'MAR', '1990', '2120', 'Africa'], ['Morocco', 'MAR', '2000', '16800', 'Africa'], ['Morocco', 'MAR', '2010', '2020', 'Africa'], ['Morocco', 'MAR', '2015', '11560', 'Africa'], ['Mozambique', 'MOZ', '1990', '-219000', 'Africa'], ['Mozambique', 'MOZ', '2000', '-221590', 'Africa'], ['Mozambique', 'MOZ', '2010', '-206430', 'Africa'], ['Mozambique', 'MOZ', '2015', '-239250', 'Africa'], ['Myanmar', 'MMR', '1990', '-435000', 'Asia'], ['Myanmar', 'MMR', '2000', '-342700', 'Asia'], ['Myanmar', 'MMR', '2010', '-289710', 'Asia'], ['Myanmar', 'MMR', '2015', '-289710', 'Asia'], ['Nauru', 'NRU', '1990', '0', 'Oceania'], ['Nauru', 'NRU', '2000', '0', 'Oceania'], ['Nauru', 'NRU', '2010', '0', 'Oceania'], ['Nauru', 'NRU', '2015', '0', 'Oceania'], ['Nepal', 'NPL', '1990', '10880', 'Asia'], ['Nepal', 'NPL', '2000', '18130', 'Asia'], ['Nepal', 'NPL', '2010', '0', 'Asia'], ['Nepal', 'NPL', '2015', '0', 'Asia'], ['Netherlands', 'NLD', '1990', '1420', 'Europe'], ['Netherlands', 'NLD', '2000', '1400', 'Europe'], ['Netherlands', 'NLD', '2010', '-1730', 'Europe'], ['Netherlands', 'NLD', '2015', '930', 'Europe'], ['New Zealand', 'NZL', '1990', '47820', 'Oceania'], ['New Zealand', 'NZL', '2000', '-230', 'Oceania'], ['New Zealand', 'NZL', '2010', '-300', 'Oceania'], ['New Zealand', 'NZL', '2015', '9200', 'Oceania'], ['Nicaragua', 'NIC', '1990', '-100000', 'North America'], ['Nicaragua', 'NIC', '2000', '-121120', 'North America'], ['Nicaragua', 'NIC', '2010', '-56120', 'North America'], ['Nicaragua', 'NIC', '2015', '-100000', 'North America'], ['Niger', 'NER', '1990', '-61690', 'Africa'], ['Niger', 'NER', '2000', '-12420', 'Africa'], ['Niger', 'NER', '2010', '-12420', 'Africa'], ['Niger', 'NER', '2015', '-12420', 'Africa'], ['Nigeria', 'NGA', '1990', '-163300', 'Africa'], ['Nigeria', 'NGA', '2000', '-163310', 'Africa'], ['Nigeria', 'NGA', '2010', '-163310', 'Africa'], ['Nigeria', 'NGA', '2015', '-163300', 'Africa'], ['North Korea', 'PRK', '1990', '-45730', 'Asia'], ['North Korea', 'PRK', '2000', '-21230', 'Asia'], ['North Korea', 'PRK', '2010', '-21230', 'Asia'], ['North Korea', 'PRK', '2015', '-21230', 'Asia'], ['Norway', 'NOR', '1990', '-1900', 'Europe'], ['Norway', 'NOR', '2000', '-1100', 'Europe'], ['Norway', 'NOR', '2010', '7800', 'Europe'], ['Norway', 'NOR', '2015', '7800', 'Europe'], ['Panama', 'PAN', '1990', '-16530', 'North America'], ['Panama', 'PAN', '2000', '-11420', 'North America'], ['Panama', 'PAN', '2010', '-11420', 'North America'], ['Panama', 'PAN', '2015', '-11410', 'North America'], ['Papua New Guinea', 'PNG', '1990', '-12170', 'Oceania'], ['Papua New Guinea', 'PNG', '2000', '-9910', 'Oceania'], ['Papua New Guinea', 'PNG', '2010', '-30900', 'Oceania'], ['Papua New Guinea', 'PNG', '2015', '-33530', 'Oceania'], ['Paraguay', 'PRY', '1990', '-255420', 'South America'], ['Paraguay', 'PRY', '2000', '-342140', 'South America'], ['Paraguay', 'PRY', '2010', '-414250', 'South America'], ['Paraguay', 'PRY', '2015', '-279340', 'South America'], ['Peru', 'PER', '1990', '-115070', 'South America'], ['Peru', 'PER', '2000', '-124800', 'South America'], ['Peru', 'PER', '2010', '-171050', 'South America'], ['Peru', 'PER', '2015', '-172830', 'South America'], ['Poland', 'POL', '1990', '17700', 'Europe'], ['Poland', 'POL', '2000', '27000', 'Europe'], ['Poland', 'POL', '2010', '18200', 'Europe'], ['Poland', 'POL', '2015', '12600', 'Europe'], ['Portugal', 'PRT', '2010', '12000', 'Europe'], ['Qatar', 'QAT', '1990', '0', 'Asia'], ['Qatar', 'QAT', '2000', '0', 'Asia'], ['Qatar', 'QAT', '2010', '0', 'Asia'], ['Qatar', 'QAT', '2015', '0', 'Asia'], ['Romania', 'ROU', '2000', '14900', 'Europe'], ['Romania', 'ROU', '2010', '69200', 'Europe'], ['Romania', 'ROU', '2015', '13610', 'Europe'], ['Russia', 'RUS', '1990', '0', 'Europe'], ['Russia', 'RUS', '2000', '586710', 'Europe'], ['Russia', 'RUS', '2010', '-41030', 'Europe'], ['Russia', 'RUS', '2015', '76230', 'Europe'], ['San Marino', 'SMR', '1990', '0', 'Europe'], ['San Marino', 'SMR', '2000', '0', 'Europe'], ['San Marino', 'SMR', '2010', '0', 'Europe'], ['San Marino', 'SMR', '2015', '0', 'Europe'], ['Sao Tome and Principe', 'STP', '1990', '-30', 'Africa'], ['Sao Tome and Principe', 'STP', '2000', '-30', 'Africa'], ['Sao Tome and Principe', 'STP', '2010', '-620', 'Africa'], ['Sao Tome and Principe', 'STP', '2015', '-620', 'Africa'], ['Senegal', 'SEN', '2010', '-40000', 'Africa'], ['Senegal', 'SEN', '2015', '-40000', 'Africa'], ['Serbia', 'SRB', '2010', '1310', 'Europe'], ['Serbia', 'SRB', '2015', '620', 'Europe'], ['Singapore', 'SGP', '1990', '220', 'Asia'], ['Singapore', 'SGP', '2000', '70', 'Asia'], ['Singapore', 'SGP', '2010', '-250', 'Asia'], ['Singapore', 'SGP', '2015', '-180', 'Asia'], ['Slovenia', 'SVN', '2000', '1400', 'Europe'], ['Slovenia', 'SVN', '2010', '200', 'Europe'], ['Slovenia', 'SVN', '2015', '-2030', 'Europe'], ['Somalia', 'SOM', '1990', '-76750', 'Africa'], ['Somalia', 'SOM', '2000', '-76750', 'Africa'], ['Somalia', 'SOM', '2010', '-76750', 'Africa'], ['Somalia', 'SOM', '2015', '-76750', 'Africa'], ['South Africa', 'ZAF', '1990', '-36400', 'Africa'], ['South Africa', 'ZAF', '2000', '-36400', 'Africa'], ['South Africa', 'ZAF', '2010', '-36400', 'Africa'], ['South Africa', 'ZAF', '2015', '-36400', 'Africa'], ['South Korea', 'KOR', '1990', '-7500', 'Asia'], ['South Korea', 'KOR', '2000', '-8900', 'Asia'], ['South Korea', 'KOR', '2010', '-10000', 'Asia'], ['South Korea', 'KOR', '2015', '-10000', 'Asia'], ['Spain', 'ESP', '2000', '145140', 'Europe'], ['Spain', 'ESP', '2010', '1170', 'Europe'], ['Spain', 'ESP', '2015', '4200', 'Europe'], ['Sudan', 'SDN', '2015', '-170080', 'Africa'], ['Suriname', 'SUR', '1990', '-3680', 'South America'], ['Suriname', 'SUR', '2000', '-4100', 'South America'], ['Suriname', 'SUR', '2010', '-9640', 'South America'], ['Suriname', 'SUR', '2015', '-11080', 'South America'], ['Sweden', 'SWE', '1990', '10000', 'Europe'], ['Sweden', 'SWE', '2000', '-9000', 'Europe'], ['Sweden', 'SWE', '2010', '-18600', 'Europe'], ['Sweden', 'SWE', '2015', '0', 'Europe'], ['Switzerland', 'CHE', '1990', '4270', 'Europe'], ['Switzerland', 'CHE', '2000', '3850', 'Europe'], ['Switzerland', 'CHE', '2010', '3440', 'Europe'], ['Switzerland', 'CHE', '2015', '3440', 'Europe'], ['Syria', 'SYR', '1990', '6000', 'Asia'], ['Syria', 'SYR', '2000', '4870', 'Asia'], ['Syria', 'SYR', '2010', '3550', 'Asia'], ['Tanzania', 'TZA', '1990', '-372000', 'Africa'], ['Tanzania', 'TZA', '2000', '-372000', 'Africa'], ['Tanzania', 'TZA', '2010', '-372000', 'Africa'], ['Tanzania', 'TZA', '2015', '-469000', 'Africa'], ['Thailand', 'THA', '1990', '-36300', 'Asia'], ['Thailand', 'THA', '2000', '107500', 'Asia'], ['Thailand', 'THA', '2010', '-2400', 'Asia'], ['Thailand', 'THA', '2015', '-37600', 'Asia'], ['Togo', 'TGO', '1990', '-9320', 'Africa'], ['Togo', 'TGO', '2000', '-2960', 'Africa'], ['Togo', 'TGO', '2010', '-2960', 'Africa'], ['Togo', 'TGO', '2015', '-2960', 'Africa'], ['Tokelau', 'TKL', '1990', '0', 'Oceania'], ['Tokelau', 'TKL', '2000', '0', 'Oceania'], ['Tokelau', 'TKL', '2010', '0', 'Oceania'], ['Tokelau', 'TKL', '2015', '0', 'Oceania'], ['Tunisia', 'TUN', '1990', '2390', 'Africa'], ['Tunisia', 'TUN', '2000', '1960', 'Africa'], ['Tunisia', 'TUN', '2010', '1530', 'Africa'], ['Tunisia', 'TUN', '2015', '1530', 'Africa'], ['Turkey', 'TUR', '1990', '36490', 'Asia'], ['Turkey', 'TUR', '2000', '93470', 'Asia'], ['Turkey', 'TUR', '2010', '109440', 'Asia'], ['Turkey', 'TUR', '2015', '118010', 'Asia'], ['Uganda', 'UGA', '1990', '-41250', 'Africa'], ['Uganda', 'UGA', '2000', '-41250', 'Africa'], ['Uganda', 'UGA', '2010', '-41250', 'Africa'], ['Uganda', 'UGA', '2015', '-41250', 'Africa'], ['Ukraine', 'UKR', '2000', '3800', 'Europe'], ['Ukraine', 'UKR', '2010', '21800', 'Europe'], ['Ukraine', 'UKR', '2015', '6600', 'Europe'], ['United Kingdom', 'GBR', '2000', '10500', 'Europe'], ['United Kingdom', 'GBR', '2010', '19200', 'Europe'], ['United States', 'USA', '1990', '108600', 'North America'], ['United States', 'USA', '2000', '518400', 'North America'], ['United States', 'USA', '2010', '275000', 'North America'], ['United States', 'USA', '2015', '0', 'North America'], ['Uruguay', 'URY', '2000', '36230', 'South America'], ['Uruguay', 'URY', '2010', '37740', 'South America'], ['Uzbekistan', 'UZB', '2000', '38810', 'Asia'], ['Uzbekistan', 'UZB', '2010', '39960', 'Asia'], ['Uzbekistan', 'UZB', '2015', '28050', 'Asia'], ['Venezuela', 'VEN', '1990', '-287500', 'South America'], ['Venezuela', 'VEN', '2000', '-164600', 'South America'], ['Venezuela', 'VEN', '2010', '-164400', 'South America'], ['Venezuela', 'VEN', '2015', '-90420', 'South America'], ['Vietnam', 'VNM', '1990', '240810', 'Asia'], ['Vietnam', 'VNM', '2000', '160400', 'Asia'], ['Vietnam', 'VNM', '2010', '134760', 'Asia'], ['Vietnam', 'VNM', '2015', '116250', 'Asia'], ['Zambia', 'ZMB', '2000', '-35800', 'Africa'], ['Zambia', 'ZMB', '2010', '-188180', 'Africa'], ['Zambia', 'ZMB', '2015', '-188210', 'Africa'], ['Zimbabwe', 'ZWE', '1990', '-46070', 'Africa'], ['Zimbabwe', 'ZWE', '2000', '-46070', 'Africa'], ['Zimbabwe', 'ZWE', '2010', '-46070', 'Africa'], ['Zimbabwe', 'ZWE', '2015', '-46070', 'Africa']]\n"
          ],
          "name": "stdout"
        }
      ]
    },
    {
      "cell_type": "markdown",
      "metadata": {
        "id": "ufgs1ijBoh3i"
      },
      "source": [
        "#### Converting list of array to dataframe"
      ]
    },
    {
      "cell_type": "code",
      "metadata": {
        "id": "epg0BRoaiQvz",
        "colab": {
          "base_uri": "https://localhost:8080/",
          "height": 204
        },
        "outputId": "e25169cc-bdbc-4958-a5fe-dbef08c8775b"
      },
      "source": [
        "data = pd.DataFrame(csv_f_with_continent_name,columns=[\"entity\",\"code\",\"year\",\"net_forest_conversion\",\"continent\"])\n",
        "data.head()"
      ],
      "execution_count": 27,
      "outputs": [
        {
          "output_type": "execute_result",
          "data": {
            "text/html": [
              "<div>\n",
              "<style scoped>\n",
              "    .dataframe tbody tr th:only-of-type {\n",
              "        vertical-align: middle;\n",
              "    }\n",
              "\n",
              "    .dataframe tbody tr th {\n",
              "        vertical-align: top;\n",
              "    }\n",
              "\n",
              "    .dataframe thead th {\n",
              "        text-align: right;\n",
              "    }\n",
              "</style>\n",
              "<table border=\"1\" class=\"dataframe\">\n",
              "  <thead>\n",
              "    <tr style=\"text-align: right;\">\n",
              "      <th></th>\n",
              "      <th>entity</th>\n",
              "      <th>code</th>\n",
              "      <th>year</th>\n",
              "      <th>net_forest_conversion</th>\n",
              "      <th>continent</th>\n",
              "    </tr>\n",
              "  </thead>\n",
              "  <tbody>\n",
              "    <tr>\n",
              "      <th>0</th>\n",
              "      <td>Algeria</td>\n",
              "      <td>DZA</td>\n",
              "      <td>1990</td>\n",
              "      <td>-8800</td>\n",
              "      <td>Africa</td>\n",
              "    </tr>\n",
              "    <tr>\n",
              "      <th>1</th>\n",
              "      <td>Algeria</td>\n",
              "      <td>DZA</td>\n",
              "      <td>2000</td>\n",
              "      <td>33900</td>\n",
              "      <td>Africa</td>\n",
              "    </tr>\n",
              "    <tr>\n",
              "      <th>2</th>\n",
              "      <td>Algeria</td>\n",
              "      <td>DZA</td>\n",
              "      <td>2010</td>\n",
              "      <td>7600</td>\n",
              "      <td>Africa</td>\n",
              "    </tr>\n",
              "    <tr>\n",
              "      <th>3</th>\n",
              "      <td>Algeria</td>\n",
              "      <td>DZA</td>\n",
              "      <td>2015</td>\n",
              "      <td>-1400</td>\n",
              "      <td>Africa</td>\n",
              "    </tr>\n",
              "    <tr>\n",
              "      <th>4</th>\n",
              "      <td>Argentina</td>\n",
              "      <td>ARG</td>\n",
              "      <td>1990</td>\n",
              "      <td>-182600</td>\n",
              "      <td>South America</td>\n",
              "    </tr>\n",
              "  </tbody>\n",
              "</table>\n",
              "</div>"
            ],
            "text/plain": [
              "      entity code  year net_forest_conversion      continent\n",
              "0    Algeria  DZA  1990                 -8800         Africa\n",
              "1    Algeria  DZA  2000                 33900         Africa\n",
              "2    Algeria  DZA  2010                  7600         Africa\n",
              "3    Algeria  DZA  2015                 -1400         Africa\n",
              "4  Argentina  ARG  1990               -182600  South America"
            ]
          },
          "metadata": {
            "tags": []
          },
          "execution_count": 27
        }
      ]
    },
    {
      "cell_type": "code",
      "metadata": {
        "id": "BhZz2__aaDUo"
      },
      "source": [
        "data.to_excel(\"new_data_forest_continent_wise.xlsx\",sheet_name='continent')  "
      ],
      "execution_count": 28,
      "outputs": []
    },
    {
      "cell_type": "markdown",
      "metadata": {
        "id": "9O09uD9Xon59"
      },
      "source": [
        "#### Validating its datatype"
      ]
    },
    {
      "cell_type": "code",
      "metadata": {
        "colab": {
          "base_uri": "https://localhost:8080/"
        },
        "id": "Rk-RiyX0U_9M",
        "outputId": "e4a6eef3-461a-44a9-c670-0c409ae4653e"
      },
      "source": [
        "data.dtypes"
      ],
      "execution_count": 29,
      "outputs": [
        {
          "output_type": "execute_result",
          "data": {
            "text/plain": [
              "entity                   object\n",
              "code                     object\n",
              "year                     object\n",
              "net_forest_conversion    object\n",
              "continent                object\n",
              "dtype: object"
            ]
          },
          "metadata": {
            "tags": []
          },
          "execution_count": 29
        }
      ]
    },
    {
      "cell_type": "code",
      "metadata": {
        "id": "6GUXo7UNShK-"
      },
      "source": [
        "data['net_forest_conversion'] = data.net_forest_conversion.astype(int)\n",
        "data['year'] = data.year.astype(int)"
      ],
      "execution_count": 30,
      "outputs": []
    },
    {
      "cell_type": "code",
      "metadata": {
        "colab": {
          "base_uri": "https://localhost:8080/"
        },
        "id": "-8gLEDeqTYsp",
        "outputId": "4ea292c1-a34d-44d3-b47a-74fc845fa9d3"
      },
      "source": [
        "data.info()"
      ],
      "execution_count": 31,
      "outputs": [
        {
          "output_type": "stream",
          "text": [
            "<class 'pandas.core.frame.DataFrame'>\n",
            "RangeIndex: 469 entries, 0 to 468\n",
            "Data columns (total 5 columns):\n",
            " #   Column                 Non-Null Count  Dtype \n",
            "---  ------                 --------------  ----- \n",
            " 0   entity                 469 non-null    object\n",
            " 1   code                   469 non-null    object\n",
            " 2   year                   469 non-null    int64 \n",
            " 3   net_forest_conversion  469 non-null    int64 \n",
            " 4   continent              469 non-null    object\n",
            "dtypes: int64(2), object(3)\n",
            "memory usage: 18.4+ KB\n"
          ],
          "name": "stdout"
        }
      ]
    },
    {
      "cell_type": "code",
      "metadata": {
        "colab": {
          "base_uri": "https://localhost:8080/",
          "height": 266
        },
        "id": "CeAR_OEFTakD",
        "outputId": "01186a53-6e5c-4b22-e9a7-8659696bd8b8"
      },
      "source": [
        "data_continent_7 = data.groupby([\"continent\"]).sum()\n",
        "data_continent_7.sort_values(\"net_forest_conversion\", ascending=False, inplace=True)\n",
        "data_continent_7"
      ],
      "execution_count": 32,
      "outputs": [
        {
          "output_type": "execute_result",
          "data": {
            "text/html": [
              "<div>\n",
              "<style scoped>\n",
              "    .dataframe tbody tr th:only-of-type {\n",
              "        vertical-align: middle;\n",
              "    }\n",
              "\n",
              "    .dataframe tbody tr th {\n",
              "        vertical-align: top;\n",
              "    }\n",
              "\n",
              "    .dataframe thead th {\n",
              "        text-align: right;\n",
              "    }\n",
              "</style>\n",
              "<table border=\"1\" class=\"dataframe\">\n",
              "  <thead>\n",
              "    <tr style=\"text-align: right;\">\n",
              "      <th></th>\n",
              "      <th>year</th>\n",
              "      <th>net_forest_conversion</th>\n",
              "    </tr>\n",
              "    <tr>\n",
              "      <th>continent</th>\n",
              "      <th></th>\n",
              "      <th></th>\n",
              "    </tr>\n",
              "  </thead>\n",
              "  <tbody>\n",
              "    <tr>\n",
              "      <th>Asia</th>\n",
              "      <td>178375</td>\n",
              "      <td>6584100</td>\n",
              "    </tr>\n",
              "    <tr>\n",
              "      <th>Europe</th>\n",
              "      <td>238640</td>\n",
              "      <td>1496440</td>\n",
              "    </tr>\n",
              "    <tr>\n",
              "      <th>Oceania</th>\n",
              "      <td>38060</td>\n",
              "      <td>246050</td>\n",
              "    </tr>\n",
              "    <tr>\n",
              "      <th>North America</th>\n",
              "      <td>142255</td>\n",
              "      <td>-361650</td>\n",
              "    </tr>\n",
              "    <tr>\n",
              "      <th>Africa</th>\n",
              "      <td>234495</td>\n",
              "      <td>-5996980</td>\n",
              "    </tr>\n",
              "    <tr>\n",
              "      <th>South America</th>\n",
              "      <td>108205</td>\n",
              "      <td>-15624200</td>\n",
              "    </tr>\n",
              "  </tbody>\n",
              "</table>\n",
              "</div>"
            ],
            "text/plain": [
              "                 year  net_forest_conversion\n",
              "continent                                   \n",
              "Asia           178375                6584100\n",
              "Europe         238640                1496440\n",
              "Oceania         38060                 246050\n",
              "North America  142255                -361650\n",
              "Africa         234495               -5996980\n",
              "South America  108205              -15624200"
            ]
          },
          "metadata": {
            "tags": []
          },
          "execution_count": 32
        }
      ]
    },
    {
      "cell_type": "code",
      "metadata": {
        "colab": {
          "base_uri": "https://localhost:8080/"
        },
        "id": "BX5zPzMvV3uI",
        "outputId": "ddcbc9fd-f8e9-4e7c-c190-382b948b1ba8"
      },
      "source": [
        "data_continent_7.info()"
      ],
      "execution_count": 33,
      "outputs": [
        {
          "output_type": "stream",
          "text": [
            "<class 'pandas.core.frame.DataFrame'>\n",
            "Index: 6 entries, Asia to South America\n",
            "Data columns (total 2 columns):\n",
            " #   Column                 Non-Null Count  Dtype\n",
            "---  ------                 --------------  -----\n",
            " 0   year                   6 non-null      int64\n",
            " 1   net_forest_conversion  6 non-null      int64\n",
            "dtypes: int64(2)\n",
            "memory usage: 144.0+ bytes\n"
          ],
          "name": "stdout"
        }
      ]
    },
    {
      "cell_type": "markdown",
      "metadata": {
        "id": "x1PdHN4apAZG"
      },
      "source": [
        "#### Visualizing dataset continent wise"
      ]
    },
    {
      "cell_type": "markdown",
      "metadata": {
        "id": "EmWOPoEOpG6s"
      },
      "source": [
        "This dataset show status of forest conservation with respect to its continent. This represents Asia is leading in being richest continent in forest resources."
      ]
    },
    {
      "cell_type": "code",
      "metadata": {
        "colab": {
          "base_uri": "https://localhost:8080/",
          "height": 445
        },
        "id": "PkSLgwSLTo7D",
        "outputId": "214e9991-ba09-4113-80db-88e85e81ff0b"
      },
      "source": [
        "data_continent_7.plot(kind = 'bar', figsize = (7, 5), width = 0.7, color =\"c\" )\n",
        "plt.xlabel(\"Continent's Name\", fontsize=15)\n",
        "plt.ylabel(\"Net_conversion (hectare)\", fontsize=15)\n",
        "\n",
        "plt.title('Fig 4: Continent and Conversion')\n",
        "plt.legend(framealpha=1, frameon=True);\n",
        "plt.plot()\n",
        "# \"#4CAF50\""
      ],
      "execution_count": 34,
      "outputs": [
        {
          "output_type": "execute_result",
          "data": {
            "text/plain": [
              "[]"
            ]
          },
          "metadata": {
            "tags": []
          },
          "execution_count": 34
        },
        {
          "output_type": "display_data",
          "data": {
            "image/png": "[encoded data removed]",
            "text/plain": [
              "<Figure size 504x360 with 1 Axes>"
            ]
          },
          "metadata": {
            "tags": []
          }
        }
      ]
    },
    {
      "cell_type": "markdown",
      "metadata": {
        "id": "hyiBZ8Isr0Uz"
      },
      "source": [
        "# Conclusion\n"
      ]
    },
    {
      "cell_type": "markdown",
      "metadata": {
        "id": "4cpsQOgWr8qf"
      },
      "source": [
        "This dataset is the real picture of the world where one can see how the people around the world are preserving, and maintaining the existing natural resources. The conclusions we see from this dataset are : \n",
        "1. China is the leading country where people are aware of plantations. Although there is no speedy up-gradation, people are likely to take care of the resources given by nature.\n",
        "2. South America is considered to be one of the developed continents. But seeing this picture, we can assume that only being a developed continent is not enough, one should have self-realization about savings of what they have. Out of 10 countries where deforestation is high, 6 countries (Brazil, Bolivia, Argentina, Venezuela, Colombia, Paraguay) are converting forest areas to other purposes.\n",
        "\n",
        "\n",
        "\n"
      ]
    }
  ]
}